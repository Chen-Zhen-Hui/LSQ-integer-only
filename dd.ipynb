{
 "cells": [
  {
   "cell_type": "code",
   "execution_count": null,
   "metadata": {},
   "outputs": [],
   "source": [
    "import torch\n",
    "import copy\n",
    "import torch.nn.functional as F\n",
    "from models.tiny_vgg import TinyVGG\n",
    "from models.module import QLinear,QConv2d\n",
    "def cmp(a,b):\n",
    "    return (a-b).abs().max()\n",
    "q_b=8\n",
    "model = TinyVGG(image_size=32,num_classes=10)\n",
    "model.eval()\n",
    "model.fuse_bn()\n",
    "model.quantize(w_num_bits=q_b,a_num_bits=q_b)\n",
    "model.load_state_dict(torch.load(f'./qat_logs/cifar10/tiny_vgg_w{q_b}a{q_b}/checkpoint_max.pth')['net'])\n",
    "q_model = copy.deepcopy(model)\n",
    "q_model.freeze()\n",
    "\n",
    "\n",
    "q_model.stage1.conv1.conv_module.weight"
   ]
  },
  {
   "cell_type": "code",
   "execution_count": 2,
   "metadata": {},
   "outputs": [
    {
     "data": {
      "text/plain": [
       "tensor(110., grad_fn=<MaxBackward1>)"
      ]
     },
     "execution_count": 2,
     "metadata": {},
     "output_type": "execute_result"
    }
   ],
   "source": [
    "q_model.stage1.conv0.conv_module.weight.max()"
   ]
  },
  {
   "cell_type": "code",
   "execution_count": 16,
   "metadata": {},
   "outputs": [
    {
     "data": {
      "text/plain": [
       "tensor(0.8249, grad_fn=<MaxBackward1>)"
      ]
     },
     "execution_count": 16,
     "metadata": {},
     "output_type": "execute_result"
    }
   ],
   "source": [
    "dummy_input = torch.randn(1, 3, 32, 32)\n",
    "\n",
    "cmp(model.stage1.conv0(dummy_input), q_model.stage1.conv0(dummy_input))\n",
    "s1c0=F.relu(model.stage1.conv0(dummy_input))\n",
    "\n",
    "q_s1c0=q_model.stage1.conv0.qo.quantize_tensor(s1c0)\n",
    "\n",
    "s1c1 = (model.stage1.conv1(s1c0))\n",
    "q_s1c1 = (q_model.stage1.conv1.quantize_inference(q_s1c0))\n",
    "q_s1c1 = q_model.stage1.conv1.qo.dequantize_tensor(q_s1c1)\n",
    "cmp(s1c1,q_s1c1)"
   ]
  },
  {
   "cell_type": "code",
   "execution_count": 14,
   "metadata": {},
   "outputs": [
    {
     "data": {
      "text/plain": [
       "tensor(0., grad_fn=<MaxBackward1>)"
      ]
     },
     "execution_count": 14,
     "metadata": {},
     "output_type": "execute_result"
    }
   ],
   "source": [
    "cmp(q_model.stage1.conv0.qo.dequantize_tensor(q_s1c0),s1c0)"
   ]
  },
  {
   "cell_type": "code",
   "execution_count": 15,
   "metadata": {},
   "outputs": [
    {
     "data": {
      "text/plain": [
       "tensor([[[[ 54.,   5.,   0.,  ...,   0.,  25.,   0.],\n",
       "          [ 41.,   0.,   0.,  ...,  14.,   0.,  20.],\n",
       "          [  0.,   0.,  19.,  ...,   0.,  78.,   0.],\n",
       "          ...,\n",
       "          [ 25.,   0.,  45.,  ...,  80.,   0.,  42.],\n",
       "          [  0.,   0.,  42.,  ...,   0.,   6.,  27.],\n",
       "          [  7.,   0.,  70.,  ...,  35.,   0.,  81.]],\n",
       "\n",
       "         [[  0.,   0.,   0.,  ...,   0.,   0.,   0.],\n",
       "          [  0.,   0.,   0.,  ...,   0.,   0.,   0.],\n",
       "          [  0.,   0.,   0.,  ...,   0.,   0.,   0.],\n",
       "          ...,\n",
       "          [  0.,   0.,   0.,  ...,   0.,   0.,   0.],\n",
       "          [  0.,   0.,   0.,  ...,   0.,   0.,   0.],\n",
       "          [  0.,   0.,   0.,  ...,   0.,   0.,   0.]],\n",
       "\n",
       "         [[  0.,   0.,   0.,  ...,   0.,   0.,   0.],\n",
       "          [  0.,   0.,   0.,  ...,   0.,   0.,   0.],\n",
       "          [  0.,   0.,   0.,  ...,   0.,   0.,   0.],\n",
       "          ...,\n",
       "          [  0.,   0.,   0.,  ...,   0.,   0.,   0.],\n",
       "          [  0.,   0.,   0.,  ...,   0.,   0.,   0.],\n",
       "          [  0.,   0.,   0.,  ...,   0.,   0.,   0.]],\n",
       "\n",
       "         ...,\n",
       "\n",
       "         [[  0.,   0.,   0.,  ...,   4.,   0.,   0.],\n",
       "          [  0.,   0.,  17.,  ...,  32.,   0.,   0.],\n",
       "          [  2.,   0.,   0.,  ...,   0.,   0.,   0.],\n",
       "          ...,\n",
       "          [  0.,   0.,  14.,  ...,   0.,   0.,   0.],\n",
       "          [  0.,  17.,   0.,  ...,   0.,   0.,   0.],\n",
       "          [  0.,   8.,  21.,  ...,   0.,   0.,   0.]],\n",
       "\n",
       "         [[  0.,   0.,   0.,  ...,   0.,   0.,   0.],\n",
       "          [  0.,   0.,   0.,  ...,   0.,   0.,   0.],\n",
       "          [  0.,   0.,   0.,  ...,   0.,   0.,   0.],\n",
       "          ...,\n",
       "          [  0.,   0.,   0.,  ...,   0.,   0.,   0.],\n",
       "          [  0.,   0.,   0.,  ...,   0.,   0.,   0.],\n",
       "          [  0.,   0.,   0.,  ...,   0.,   0.,   0.]],\n",
       "\n",
       "         [[ 14.,   0.,  59.,  ...,   0.,   0.,  36.],\n",
       "          [ 68.,  18.,   9.,  ...,  71.,   0.,   0.],\n",
       "          [  0.,  54.,  15.,  ...,  45.,  35.,  16.],\n",
       "          ...,\n",
       "          [ 90.,  66.,  43.,  ...,   0.,   0.,  84.],\n",
       "          [120., 104.,   0.,  ...,   0.,   0.,   0.],\n",
       "          [ 16.,   3.,  27.,  ...,   0.,   0.,  31.]]]],\n",
       "       grad_fn=<AddBackward0>)"
      ]
     },
     "execution_count": 15,
     "metadata": {},
     "output_type": "execute_result"
    }
   ],
   "source": [
    "q_s1c0"
   ]
  },
  {
   "cell_type": "code",
   "execution_count": 5,
   "metadata": {},
   "outputs": [
    {
     "data": {
      "text/plain": [
       "tensor([[-7.6420, -6.6868, -5.7315, -7.6420, -7.6420, -6.6868, -7.6420, -7.6420,\n",
       "         -7.6420, -7.6420]], grad_fn=<MulBackward0>)"
      ]
     },
     "execution_count": 5,
     "metadata": {},
     "output_type": "execute_result"
    }
   ],
   "source": [
    "q_out"
   ]
  },
  {
   "cell_type": "code",
   "execution_count": 14,
   "metadata": {},
   "outputs": [
    {
     "data": {
      "text/plain": [
       "QParam()"
      ]
     },
     "execution_count": 14,
     "metadata": {},
     "output_type": "execute_result"
    }
   ],
   "source": [
    "q_model.linear.qo"
   ]
  },
  {
   "cell_type": "code",
   "execution_count": 5,
   "metadata": {},
   "outputs": [
    {
     "data": {
      "text/plain": [
       "tensor(10.)"
      ]
     },
     "execution_count": 5,
     "metadata": {},
     "output_type": "execute_result"
    }
   ],
   "source": [
    "q_model.layer1[0].conv1.n"
   ]
  },
  {
   "cell_type": "code",
   "execution_count": null,
   "metadata": {},
   "outputs": [],
   "source": []
  }
 ],
 "metadata": {
  "kernelspec": {
   "display_name": "d2l",
   "language": "python",
   "name": "python3"
  },
  "language_info": {
   "codemirror_mode": {
    "name": "ipython",
    "version": 3
   },
   "file_extension": ".py",
   "mimetype": "text/x-python",
   "name": "python",
   "nbconvert_exporter": "python",
   "pygments_lexer": "ipython3",
   "version": "3.12.11"
  }
 },
 "nbformat": 4,
 "nbformat_minor": 2
}
