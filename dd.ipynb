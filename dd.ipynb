{
 "cells": [
  {
   "cell_type": "code",
   "execution_count": 1,
   "metadata": {},
   "outputs": [
    {
     "data": {
      "text/plain": [
       "Parameter containing:\n",
       "tensor([ -5.,   4.,  -5.,  13., -10.,   9.,   3., -14., -21.,   2.],\n",
       "       requires_grad=True)"
      ]
     },
     "execution_count": 1,
     "metadata": {},
     "output_type": "execute_result"
    }
   ],
   "source": [
    "import torch\n",
    "import copy\n",
    "import torch.nn.functional as F\n",
    "from models.resnet_cifar10 import ResNet18_CIFAR10\n",
    "from models.module import QLinear\n",
    "def cmp(a,b):\n",
    "    return (a-b).abs().max()\n",
    "model = ResNet18_CIFAR10()\n",
    "model.eval()\n",
    "model.fuse_bn()\n",
    "model.quantize(w_num_bits=4,a_num_bits=4)\n",
    "model.load_state_dict(torch.load('./qat_logs/resnet_cifar10_w4a4/checkpoint_max_w4a4.pth')['net'])\n",
    "q_model = copy.deepcopy(model)\n",
    "q_model.freeze()\n",
    "\n",
    "\n",
    "q_model.linear.linear_module.bias"
   ]
  },
  {
   "cell_type": "code",
   "execution_count": 2,
   "metadata": {},
   "outputs": [
    {
     "data": {
      "text/plain": [
       "tensor(0.9553, grad_fn=<MaxBackward1>)"
      ]
     },
     "execution_count": 2,
     "metadata": {},
     "output_type": "execute_result"
    }
   ],
   "source": [
    "dummy_input = model.layer4[-1].add.qo.fake_quantize(torch.rand([1000,8192]))\n",
    "q_input = q_model.layer4[-1].qo.quantize_tensor(dummy_input)\n",
    "\n",
    "out = model.linear(dummy_input, qi=q_model.layer4[-1].qo)\n",
    "q_out = q_model.linear.qo.dequantize_tensor(q_model.linear.quantize_inference(q_input))\n",
    "cmp(out, q_out)"
   ]
  },
  {
   "cell_type": "code",
   "execution_count": 3,
   "metadata": {},
   "outputs": [
    {
     "data": {
      "text/plain": [
       "tensor(8192000)"
      ]
     },
     "execution_count": 3,
     "metadata": {},
     "output_type": "execute_result"
    }
   ],
   "source": [
    "x = q_model.layer4[-1].add.qo.fake_quantize(dummy_input)\n",
    "(x==dummy_input).sum()\n"
   ]
  },
  {
   "cell_type": "code",
   "execution_count": 4,
   "metadata": {},
   "outputs": [
    {
     "data": {
      "text/plain": [
       "tensor([[-7.6420, -6.6868, -6.6868, -7.6420, -7.6420, -7.6420, -7.6420, -7.6420,\n",
       "         -7.6420, -7.6420]], grad_fn=<MulBackward0>)"
      ]
     },
     "execution_count": 4,
     "metadata": {},
     "output_type": "execute_result"
    }
   ],
   "source": [
    "q_model.linear"
   ]
  },
  {
   "cell_type": "code",
   "execution_count": 5,
   "metadata": {},
   "outputs": [
    {
     "data": {
      "text/plain": [
       "tensor([[-7.6420, -6.6868, -5.7315, -7.6420, -7.6420, -6.6868, -7.6420, -7.6420,\n",
       "         -7.6420, -7.6420]], grad_fn=<MulBackward0>)"
      ]
     },
     "execution_count": 5,
     "metadata": {},
     "output_type": "execute_result"
    }
   ],
   "source": [
    "q_out"
   ]
  },
  {
   "cell_type": "code",
   "execution_count": 14,
   "metadata": {},
   "outputs": [
    {
     "data": {
      "text/plain": [
       "QParam()"
      ]
     },
     "execution_count": 14,
     "metadata": {},
     "output_type": "execute_result"
    }
   ],
   "source": [
    "q_model.linear.qo"
   ]
  },
  {
   "cell_type": "code",
   "execution_count": 5,
   "metadata": {},
   "outputs": [
    {
     "data": {
      "text/plain": [
       "tensor(10.)"
      ]
     },
     "execution_count": 5,
     "metadata": {},
     "output_type": "execute_result"
    }
   ],
   "source": [
    "q_model.layer1[0].conv1.n"
   ]
  },
  {
   "cell_type": "code",
   "execution_count": null,
   "metadata": {},
   "outputs": [],
   "source": []
  }
 ],
 "metadata": {
  "kernelspec": {
   "display_name": "d2l",
   "language": "python",
   "name": "python3"
  },
  "language_info": {
   "codemirror_mode": {
    "name": "ipython",
    "version": 3
   },
   "file_extension": ".py",
   "mimetype": "text/x-python",
   "name": "python",
   "nbconvert_exporter": "python",
   "pygments_lexer": "ipython3",
   "version": "3.9.19"
  }
 },
 "nbformat": 4,
 "nbformat_minor": 2
}
